{
 "cells": [
  {
   "cell_type": "code",
   "execution_count": 8,
   "metadata": {},
   "outputs": [],
   "source": [
    "import numpy as np\n",
    "import scipy #saving to Matlab with scipy.io.savemat"
   ]
  },
  {
   "cell_type": "code",
   "execution_count": 9,
   "metadata": {},
   "outputs": [
    {
     "data": {
      "text/plain": [
       "'0.24.2'"
      ]
     },
     "execution_count": 9,
     "metadata": {},
     "output_type": "execute_result"
    }
   ],
   "source": [
    "import sklearn\n",
    "sklearn.__version__"
   ]
  },
  {
   "cell_type": "markdown",
   "metadata": {},
   "source": [
    "# Leukemia dataset"
   ]
  },
  {
   "cell_type": "markdown",
   "metadata": {},
   "source": [
    "## From LIBSVM\n",
    "\n",
    "https://www.csie.ntu.edu.tw/~cjlin/libsvmtools/datasets/binary.html#leukemia\n",
    "\n",
    "Can be loaded directly in MATLAB using \"libsvmread\" in LIBSVM package. In python it is part of sklearn.\n",
    "\n",
    "Source: [T. R. Golub, D. K. Slonim, P. Tamayo, C. Huard, M. Gaasenbeek, J. P. Mesirov, H. Coller, M. L. Loh, J. R. Downing, M. A. Caligiuri, C. D. Bloomfield, and E. S. Lander. Molecular classification of cancer: class discovery and class prediction by gene expression monitoring. Science, 286(5439):531, 1999.]\n",
    "\n",
    "Preprocessing: Merge training/testing. Instance-wise normalization to mean zero and variance one. Then feature-wise normalization to mean zero and variance one. [S.K. Shevade and S. S. Keerthi. A simple and efficient algorithm for gene selection using sparse logistic regression. Bioinformatics, 19(17):2246–2253, 2003.]\n",
    "- \\# of classes: 2\n",
    "- \\# of data: 38 / 34 (testing)\n",
    "- \\# of features: 7129\n",
    "\n",
    "Files:\n",
    " - leu.bz2\n",
    " - leu.t.bz2 (testing)\n"
   ]
  },
  {
   "cell_type": "code",
   "execution_count": 9,
   "metadata": {},
   "outputs": [],
   "source": [
    "from sklearn.datasets import load_svmlight_file\n",
    "\n",
    "# download the file here\n",
    "# http://www.csie.ntu.edu.tw/~cjlin/libsvmtools/datasets/binary.html#leukemia\n",
    "X, y = load_svmlight_file(\"datasets/classification/Leukemia/leu.bz2\")\n",
    "#X = X.astype(float)\n",
    "y[y == -1] = 0\n",
    "\n",
    "X_test, y_test = load_svmlight_file(\"datasets/classification/Leukemia/leu.t.bz2\")\n",
    "y_test[y_test == -1] = 0"
   ]
  },
  {
   "cell_type": "code",
   "execution_count": 10,
   "metadata": {},
   "outputs": [
    {
     "data": {
      "text/plain": [
       "(38, 7129)"
      ]
     },
     "execution_count": 10,
     "metadata": {},
     "output_type": "execute_result"
    }
   ],
   "source": [
    "X.shape # (38, 7129)"
   ]
  },
  {
   "cell_type": "code",
   "execution_count": 11,
   "metadata": {},
   "outputs": [
    {
     "data": {
      "text/plain": [
       "(34, 7129)"
      ]
     },
     "execution_count": 11,
     "metadata": {},
     "output_type": "execute_result"
    }
   ],
   "source": [
    "X_test.shape # (34, 7129)"
   ]
  },
  {
   "cell_type": "markdown",
   "metadata": {},
   "source": [
    "- Saving to MATLAB: using whole data (training and test)"
   ]
  },
  {
   "cell_type": "code",
   "execution_count": 12,
   "metadata": {},
   "outputs": [],
   "source": [
    "scipy.io.savemat('Leukemia.mat', dict(A_train=X, y_train=y, A_test = X_test, y_test = y_test))"
   ]
  },
  {
   "cell_type": "markdown",
   "metadata": {},
   "source": [
    "## Loading with sickit-learn (DEPRECATED!)\n",
    "** Works only for older versions of sklear (0.15)**\n",
    "\n",
    "See https://scikit-learn.org/0.15/modules/generated/sklearn.datasets.fetch_mldata.html\n",
    "\"Load the ‘leukemia’ dataset from mldata.org, which needs to be transposed to respects the sklearn axes convention:\""
   ]
  },
  {
   "cell_type": "code",
   "execution_count": null,
   "metadata": {},
   "outputs": [],
   "source": [
    "from sklearn.datasets import fetch_mldata #DEPRECATED!!\n",
    "import tempfile\n",
    "test_data_home = tempfile.mkdtemp() #temp directory/file"
   ]
  },
  {
   "cell_type": "code",
   "execution_count": null,
   "metadata": {},
   "outputs": [],
   "source": [
    "leuk = fetch_mldata('leukemia', transpose_data=True,data_home=test_data_home)\n",
    "leuk.data.shape"
   ]
  },
  {
   "cell_type": "markdown",
   "metadata": {},
   "source": [
    "See: https://github.com/EugeneNdiaye/Gap_Safe_Rules/blob/master/experiments/bench_logreg.py"
   ]
  },
  {
   "cell_type": "code",
   "execution_count": null,
   "metadata": {},
   "outputs": [],
   "source": [
    "dataset = \"leukemia\"\n",
    "data = fetch_mldata(dataset)\n",
    "X = data.data  # [:, ::10]\n",
    "y = data.target\n",
    "X = X.astype(float)\n",
    "y = y.astype(float)\n",
    "y[y == -1] = 0"
   ]
  },
  {
   "cell_type": "markdown",
   "metadata": {},
   "source": [
    "# Colon Cancer dataset"
   ]
  },
  {
   "cell_type": "markdown",
   "metadata": {},
   "source": [
    "## From LIBSVM\n",
    "\n",
    "https://www.csie.ntu.edu.tw/~cjlin/libsvmtools/datasets/binary.html#colon-cancer\n",
    "\n",
    "Can be loaded directly in MATLAB using \"libsvmread\" in LIBSVM package.\n",
    "\n",
    "Source: [U. Alon, N. Barkai, D. A. Notterman, K. Gish, S. Ybarra, D.Mack, and A. J. Levine. Broad patterns of gene expression revealed by clustering analysis of tumor and normal colon tissues probed by oligonucleotide arrays. Cell Biology, 96:6745–6750, 1999.]\n",
    "\n",
    "Preprocessing: Instance-wise normalization to mean zero and variance one. Then feature-wise normalization to mean zero and variance one. [SKS03a]\n",
    "- \\# of classes: 2\n",
    "- \\# of data: 62\n",
    "- \\# of features: 2,000\n",
    "\n",
    "Files:\n",
    "   - colon-cancer.bz2"
   ]
  },
  {
   "cell_type": "code",
   "execution_count": 3,
   "metadata": {},
   "outputs": [],
   "source": [
    "from sklearn.datasets import load_svmlight_file\n",
    "\n",
    "# download the file here\n",
    "# http://www.csie.ntu.edu.tw/~cjlin/libsvmtools/datasets/binary.html#leukemia\n",
    "X, y = load_svmlight_file(\"datasets/classification/Other-LIBSVM/colon-cancer.bz2\")\n",
    "#X = X.astype(float)\n",
    "y[y == -1] = 0 #classes are to be represented by 0 and 1"
   ]
  },
  {
   "cell_type": "code",
   "execution_count": 4,
   "metadata": {},
   "outputs": [
    {
     "data": {
      "text/plain": [
       "(62, 2000)"
      ]
     },
     "execution_count": 4,
     "metadata": {},
     "output_type": "execute_result"
    }
   ],
   "source": [
    "X.shape # (62, 2000)"
   ]
  },
  {
   "cell_type": "markdown",
   "metadata": {},
   "source": [
    "- Saving to MATLAB: using whole data (training and test)"
   ]
  },
  {
   "cell_type": "code",
   "execution_count": 20,
   "metadata": {},
   "outputs": [],
   "source": [
    "scipy.io.savemat('Colon-Cancer.mat', dict(A=X, y=y))"
   ]
  },
  {
   "cell_type": "markdown",
   "metadata": {},
   "source": [
    "# RCV1.binary dataset"
   ]
  },
  {
   "cell_type": "markdown",
   "metadata": {},
   "source": [
    "## From LIBSVM\n",
    "\n",
    "https://www.csie.ntu.edu.tw/~cjlin/libsvmtools/datasets/binary.html#rcv1.binary\n",
    "\n",
    "Can be loaded directly in MATLAB using \"libsvmread\" in LIBSVM package. In python it is part of sklearn.\n",
    "\n",
    "Source: [Lewis, D. D., Yang, Y., Rose, T. G., & Li, F. (2004). RCV1: A new benchmark collection for text categorization research. The Journal of Machine Learning Research, 5, 361-397, 2004.]\n",
    "\n",
    "Preprocessing: positive: CCAT, ECAT; negative: GCAT, MCAT; instances in both positive and negative classes are removed. [DL04b]\n",
    "- \\# of classes: 2\n",
    "- \\# of data: 20,242 / 677,399 (testing)\n",
    "- \\# of features: 47,236    \n",
    "\n",
    "Files:\n",
    "   - rcv1_train.binary.bz2\n",
    "   - rcv1_test.binary.bz2 (testing) Not using!"
   ]
  },
  {
   "cell_type": "code",
   "execution_count": 13,
   "metadata": {},
   "outputs": [],
   "source": [
    "from sklearn.datasets import load_svmlight_file\n",
    "\n",
    "# download the file here\n",
    "# https://www.csie.ntu.edu.tw/~cjlin/libsvmtools/datasets/binary.html#rcv1.binary\n",
    "#X, y = load_svmlight_file(\"datasets/classification/Other-LIBSVM/rcv1_train.binary.bz2\")\n",
    "X, y = load_svmlight_file(\"datasets/classification/Other-LIBSVM/rcv1_test.binary.bz2\")\n",
    "#X = X.astype(float)\n",
    "y[y == -1] = 0 #classes are to be represented by 0 and 1"
   ]
  },
  {
   "cell_type": "code",
   "execution_count": 14,
   "metadata": {},
   "outputs": [
    {
     "data": {
      "text/plain": [
       "(677399, 47236)"
      ]
     },
     "execution_count": 14,
     "metadata": {},
     "output_type": "execute_result"
    }
   ],
   "source": [
    "X.shape # train: (20242, 47236), test: (677399, 47236)"
   ]
  },
  {
   "cell_type": "code",
   "execution_count": 200,
   "metadata": {},
   "outputs": [
    {
     "data": {
      "text/plain": [
       "(1000, 9679)"
      ]
     },
     "execution_count": 200,
     "metadata": {},
     "output_type": "execute_result"
    }
   ],
   "source": [
    "## 1000 samples (~9000 features)\n",
    "#Select subset of samples (in X and y)\n",
    "idx0 = X.getnnz(1)>10 #remove rows with less than 'x' non-zeros\n",
    "X = X[idx0] \n",
    "y = y[idx0]\n",
    "idx1 = np.random.choice(X.shape[0], 1000, replace=False) #Random subset of 1000 rows\n",
    "X = X[idx1] \n",
    "y = y[idx1]\n",
    "\n",
    "X = X[:,X.getnnz(0)>0] #remove all-zero columns\n",
    "X.shape #new shape"
   ]
  },
  {
   "cell_type": "code",
   "execution_count": 16,
   "metadata": {},
   "outputs": [
    {
     "data": {
      "text/plain": [
       "1999"
      ]
     },
     "execution_count": 16,
     "metadata": {},
     "output_type": "execute_result"
    }
   ],
   "source": [
    "#verify rank\n",
    "myrank = np.linalg.matrix_rank(X.todense()) #rank\n",
    "myrank"
   ]
  },
  {
   "cell_type": "code",
   "execution_count": 7,
   "metadata": {},
   "outputs": [],
   "source": [
    "#normalize columns of X (original data is normalized by samples, i.e. by rows)\n",
    "from sklearn.preprocessing import normalize\n",
    "X = normalize(X, axis=0)\n",
    "#scipy.sparse.linalg.norm(X[:,10]) # Verify column norms"
   ]
  },
  {
   "cell_type": "code",
   "execution_count": 8,
   "metadata": {},
   "outputs": [],
   "source": [
    "U, S, Vt = scipy.sparse.linalg.svds(X)\n",
    "pinvX = np.dot(Vt.T * (1/S), U.T)\n",
    "pinvX_1 = np.linalg.norm(pinvX,1) #np.max(np.sum(np.abs(pinvX),axis=0))"
   ]
  },
  {
   "cell_type": "code",
   "execution_count": 9,
   "metadata": {},
   "outputs": [
    {
     "data": {
      "text/plain": [
       "2.739335660839793"
      ]
     },
     "execution_count": 9,
     "metadata": {},
     "output_type": "execute_result"
    }
   ],
   "source": [
    "pinvX_1"
   ]
  },
  {
   "cell_type": "markdown",
   "metadata": {},
   "source": [
    "- Saving to MATLAB: using whole data (training and test)"
   ]
  },
  {
   "cell_type": "code",
   "execution_count": 10,
   "metadata": {},
   "outputs": [],
   "source": [
    "scipy.io.savemat('rcv1.mat', dict(A=X, y=y, pinvA_1=pinvX_1))"
   ]
  },
  {
   "cell_type": "markdown",
   "metadata": {},
   "source": [
    "- Other subsampling sizes (requires reloading the dataset)"
   ]
  },
  {
   "cell_type": "code",
   "execution_count": 15,
   "metadata": {},
   "outputs": [
    {
     "data": {
      "text/plain": [
       "(2000, 15175)"
      ]
     },
     "execution_count": 15,
     "metadata": {},
     "output_type": "execute_result"
    }
   ],
   "source": [
    "## 2000 samples (~15000 features)\n",
    "#Select subset of samples (in X and y)\n",
    "idx0 = X.getnnz(1)>50 # remove rows with less than 'x' non-zeros. \n",
    "                      # x=10 => 675317 samples | x=50 => 380847 samples | x=100 => 162035 samples | x=200 => 19347 samples |  x=300 => 2151 samples\n",
    "X = X[idx0]\n",
    "y = y[idx0]\n",
    "idx1 = np.random.choice(X.shape[0], 2000, replace=False)\n",
    "X = X[idx1] #Random subset of 2000 rows\n",
    "y = y[idx1]\n",
    "\n",
    "X = X[:,X.getnnz(0)>0] #remove all-zero columns\n",
    "X.shape #new shape"
   ]
  },
  {
   "cell_type": "code",
   "execution_count": 58,
   "metadata": {},
   "outputs": [
    {
     "data": {
      "text/plain": [
       "(3000, 22446)"
      ]
     },
     "execution_count": 58,
     "metadata": {},
     "output_type": "execute_result"
    }
   ],
   "source": [
    "## 3000 samples (~22000 features) - hard to obtain full-rank with 3000 samples or more.\n",
    "#Select subset of samples (in X and y)\n",
    "idx0 = X.getnnz(1)>200 #remove rows with less than 'x' non-zeros\n",
    "X = X[idx0]\n",
    "y = y[idx0]\n",
    "idx1 = np.random.choice(X.shape[0], 3000, replace=False)\n",
    "X = X[idx1] #Random subset of 3000 rows\n",
    "y = y[idx1]\n",
    "\n",
    "X = X[:,X.getnnz(0)>0] #remove all-zero columns\n",
    "X.shape #new shape"
   ]
  },
  {
   "cell_type": "markdown",
   "metadata": {},
   "source": [
    "# Other classification datasets"
   ]
  },
  {
   "cell_type": "markdown",
   "metadata": {},
   "source": [
    "## 20News\n",
    "\n",
    "See: https://github.com/EugeneNdiaye/Gap_Safe_Rules/blob/master/experiments/bench_logreg.py \n",
    "\n",
    "Download link: http://www.csie.ntu.edu.tw/~cjlin/libsvmtools/datasets/binary.html#news20.binary (LIBSVM)\n",
    "\n",
    "Source: S. S. Keerthi and D. DeCoste. A modified finite Newton method for fast solution of large scale linear SVMs. Journal of Machine Learning Research, 6:341–361, 2005.\n",
    "\n",
    "Preprocessing: Each instance has unit length.\n",
    "- \\# of classes: 2\n",
    "- \\# of data: 19,996\n",
    "- \\# of features: 1,355,191\n",
    "\n",
    "**ALTERNATIVELY: can be directly loaded in MATLAB using \"libsvmread\" in LIBSVM package.**"
   ]
  },
  {
   "cell_type": "code",
   "execution_count": 209,
   "metadata": {},
   "outputs": [],
   "source": [
    "from sklearn.datasets import load_svmlight_file\n",
    "\n",
    "# download the file here\n",
    "# http://www.csie.ntu.edu.tw/~cjlin/libsvmtools/datasets/binary.html#news20.binary\n",
    "X, y = load_svmlight_file(\"datasets/classification/News20/news20.binary\")\n",
    "X = X.astype(float)\n",
    "y = y.astype(float)\n",
    "y[y == -1] = 0"
   ]
  },
  {
   "cell_type": "code",
   "execution_count": 210,
   "metadata": {},
   "outputs": [
    {
     "data": {
      "text/plain": [
       "(19996, 1355191)"
      ]
     },
     "execution_count": 210,
     "metadata": {},
     "output_type": "execute_result"
    }
   ],
   "source": [
    "X.shape #(19996, 1355191)\n",
    "#X[:2,:2].data #visualizing some data (float)"
   ]
  },
  {
   "cell_type": "code",
   "execution_count": 221,
   "metadata": {},
   "outputs": [
    {
     "data": {
      "text/plain": [
       "(18376, 43993)"
      ]
     },
     "execution_count": 221,
     "metadata": {},
     "output_type": "execute_result"
    }
   ],
   "source": [
    "idx0 = X.getnnz(1)>50\n",
    "X = X[idx0] #remove all-zero rows\n",
    "y = y[idx0]\n",
    "#idx1 = np.random.choice(X.shape[0], 1000, replace=False)\n",
    "#X = X[idx1] #Random subset of 10000 rows\n",
    "#y = y[idx1]\n",
    "\n",
    "X = X[:,X.getnnz(0)>20] #remove all-zero columns\n",
    "\n",
    "X.shape #new shape (20242, 44504"
   ]
  },
  {
   "cell_type": "code",
   "execution_count": null,
   "metadata": {},
   "outputs": [],
   "source": [
    "myrank = np.linalg.matrix_rank(X.todense()) #rank\n",
    "myrank"
   ]
  },
  {
   "cell_type": "code",
   "execution_count": null,
   "metadata": {},
   "outputs": [],
   "source": [
    "# Save to MATLAB\n",
    "scipy.io.savemat('20newsgroups_binary.mat', dict(A=X, y=y))"
   ]
  },
  {
   "cell_type": "markdown",
   "metadata": {},
   "source": [
    "## Synthetic\n",
    "\n",
    "See: https://github.com/EugeneNdiaye/Gap_Safe_Rules/blob/master/experiments/bench_logreg.py \n",
    "\n",
    "Synthetic data option using  [sklearn.datasets.make_classification](https://scikit-learn.org/stable/modules/generated/sklearn.datasets.make_classification.html?highlight=make_classification#sklearn.datasets.make_classification)"
   ]
  },
  {
   "cell_type": "code",
   "execution_count": 19,
   "metadata": {},
   "outputs": [],
   "source": [
    "from sklearn.datasets import make_classification\n",
    "\n",
    "X, y = make_classification(n_samples=50,\n",
    "                           n_features=3000,\n",
    "                           n_classes=2,\n",
    "                           random_state=42)\n",
    "X = X.astype(float)\n",
    "X /= np.sqrt(np.sum(X ** 2, axis=0))\n",
    "mask = np.sum(np.isnan(X), axis=0) == 0\n",
    "if np.any(mask):\n",
    "    X = X[:, mask]\n",
    "y = y.astype(float) #labels {0,1}"
   ]
  },
  {
   "cell_type": "code",
   "execution_count": 20,
   "metadata": {},
   "outputs": [
    {
     "data": {
      "text/plain": [
       "(50, 3000)"
      ]
     },
     "execution_count": 20,
     "metadata": {},
     "output_type": "execute_result"
    }
   ],
   "source": [
    "X.shape #(50, 3000)"
   ]
  },
  {
   "cell_type": "markdown",
   "metadata": {},
   "source": [
    "## Digits dataset\n",
    "\n",
    "https://scikit-learn.org/stable/auto_examples/linear_model/plot_logistic_l1_l2_sparsity.html#sphx-glr-auto-examples-linear-model-plot-logistic-l1-l2-sparsity-py"
   ]
  },
  {
   "cell_type": "code",
   "execution_count": null,
   "metadata": {},
   "outputs": [],
   "source": [
    "import numpy as np\n",
    "import matplotlib.pyplot as plt\n",
    "\n",
    "from sklearn.linear_model import LogisticRegression\n",
    "from sklearn import datasets\n",
    "from sklearn.preprocessing import StandardScaler\n",
    "\n",
    "X, y = datasets.load_digits(return_X_y=True)\n",
    "\n",
    "X = StandardScaler().fit_transform(X)\n",
    "\n",
    "# classify small against large digits\n",
    "y = (y > 4).astype(np.int)"
   ]
  },
  {
   "cell_type": "markdown",
   "metadata": {},
   "source": [
    "## Other\n",
    "\n",
    "- LIBSVM : Extensive list of binary classification datasets (loadable directly at MATLAB) https://www.csie.ntu.edu.tw/~cjlin/libsvmtools/datasets/binary.html\n",
    "\n",
    "- MLdata : https://www.mldata.io/ (Example: Smartphone Activity dataset, 6 classes 10299x562). I think sklearn used to fetch Leukemia dataset from this website.\n",
    "\n",
    "- Scikit Learn : https://scikit-learn.org/stable/datasets/index.html\n"
   ]
  },
  {
   "cell_type": "code",
   "execution_count": null,
   "metadata": {},
   "outputs": [],
   "source": []
  }
 ],
 "metadata": {
  "kernelspec": {
   "display_name": "Python 3",
   "language": "python",
   "name": "python3"
  },
  "language_info": {
   "codemirror_mode": {
    "name": "ipython",
    "version": 3
   },
   "file_extension": ".py",
   "mimetype": "text/x-python",
   "name": "python",
   "nbconvert_exporter": "python",
   "pygments_lexer": "ipython3",
   "version": "3.7.10"
  }
 },
 "nbformat": 4,
 "nbformat_minor": 4
}
